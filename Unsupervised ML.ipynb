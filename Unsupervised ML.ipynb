{
 "cells": [
  {
   "cell_type": "markdown",
   "id": "302066d4",
   "metadata": {},
   "source": [
    "# THE SPARKS FOUNDATION GRIP TASKS"
   ]
  },
  {
   "cell_type": "markdown",
   "id": "61523f36",
   "metadata": {},
   "source": [
    "# Data Science And Business Analytics Internship- Sep22\n",
    "## **Author : ASHISH SINGH**\n",
    "## **TASK2 : Prediction Using Unsupervised Machine Learning**\n",
    " **Objective is to predict the optimum number of clusters of \"iris\" dataset by using Unsupervised ML algorithm**"
   ]
  },
  {
   "cell_type": "code",
   "execution_count": 1,
   "id": "2b406a59",
   "metadata": {},
   "outputs": [],
   "source": [
    "#IMPORTING ALL REQUIRED LIBRARIES\n",
    "import pandas as pd\n",
    "import numpy as np\n",
    "import matplotlib.pyplot as plt\n",
    "%matplotlib inline\n",
    "import seaborn as sns\n",
    "sns.set(style=\"darkgrid\")\n",
    "from sklearn.datasets import load_iris"
   ]
  },
  {
   "cell_type": "code",
   "execution_count": 2,
   "id": "47338a70",
   "metadata": {},
   "outputs": [
    {
     "data": {
      "text/html": [
       "<div>\n",
       "<style scoped>\n",
       "    .dataframe tbody tr th:only-of-type {\n",
       "        vertical-align: middle;\n",
       "    }\n",
       "\n",
       "    .dataframe tbody tr th {\n",
       "        vertical-align: top;\n",
       "    }\n",
       "\n",
       "    .dataframe thead th {\n",
       "        text-align: right;\n",
       "    }\n",
       "</style>\n",
       "<table border=\"1\" class=\"dataframe\">\n",
       "  <thead>\n",
       "    <tr style=\"text-align: right;\">\n",
       "      <th></th>\n",
       "      <th>sepal_length</th>\n",
       "      <th>sepal_width</th>\n",
       "      <th>petal_length</th>\n",
       "      <th>petal_width</th>\n",
       "      <th>species</th>\n",
       "    </tr>\n",
       "  </thead>\n",
       "  <tbody>\n",
       "    <tr>\n",
       "      <th>0</th>\n",
       "      <td>5.1</td>\n",
       "      <td>3.5</td>\n",
       "      <td>1.4</td>\n",
       "      <td>0.2</td>\n",
       "      <td>setosa</td>\n",
       "    </tr>\n",
       "    <tr>\n",
       "      <th>1</th>\n",
       "      <td>4.9</td>\n",
       "      <td>3.0</td>\n",
       "      <td>1.4</td>\n",
       "      <td>0.2</td>\n",
       "      <td>setosa</td>\n",
       "    </tr>\n",
       "    <tr>\n",
       "      <th>2</th>\n",
       "      <td>4.7</td>\n",
       "      <td>3.2</td>\n",
       "      <td>1.3</td>\n",
       "      <td>0.2</td>\n",
       "      <td>setosa</td>\n",
       "    </tr>\n",
       "    <tr>\n",
       "      <th>3</th>\n",
       "      <td>4.6</td>\n",
       "      <td>3.1</td>\n",
       "      <td>1.5</td>\n",
       "      <td>0.2</td>\n",
       "      <td>setosa</td>\n",
       "    </tr>\n",
       "    <tr>\n",
       "      <th>4</th>\n",
       "      <td>5.0</td>\n",
       "      <td>3.6</td>\n",
       "      <td>1.4</td>\n",
       "      <td>0.2</td>\n",
       "      <td>setosa</td>\n",
       "    </tr>\n",
       "    <tr>\n",
       "      <th>...</th>\n",
       "      <td>...</td>\n",
       "      <td>...</td>\n",
       "      <td>...</td>\n",
       "      <td>...</td>\n",
       "      <td>...</td>\n",
       "    </tr>\n",
       "    <tr>\n",
       "      <th>145</th>\n",
       "      <td>6.7</td>\n",
       "      <td>3.0</td>\n",
       "      <td>5.2</td>\n",
       "      <td>2.3</td>\n",
       "      <td>virginica</td>\n",
       "    </tr>\n",
       "    <tr>\n",
       "      <th>146</th>\n",
       "      <td>6.3</td>\n",
       "      <td>2.5</td>\n",
       "      <td>5.0</td>\n",
       "      <td>1.9</td>\n",
       "      <td>virginica</td>\n",
       "    </tr>\n",
       "    <tr>\n",
       "      <th>147</th>\n",
       "      <td>6.5</td>\n",
       "      <td>3.0</td>\n",
       "      <td>5.2</td>\n",
       "      <td>2.0</td>\n",
       "      <td>virginica</td>\n",
       "    </tr>\n",
       "    <tr>\n",
       "      <th>148</th>\n",
       "      <td>6.2</td>\n",
       "      <td>3.4</td>\n",
       "      <td>5.4</td>\n",
       "      <td>2.3</td>\n",
       "      <td>virginica</td>\n",
       "    </tr>\n",
       "    <tr>\n",
       "      <th>149</th>\n",
       "      <td>5.9</td>\n",
       "      <td>3.0</td>\n",
       "      <td>5.1</td>\n",
       "      <td>1.8</td>\n",
       "      <td>virginica</td>\n",
       "    </tr>\n",
       "  </tbody>\n",
       "</table>\n",
       "<p>150 rows × 5 columns</p>\n",
       "</div>"
      ],
      "text/plain": [
       "     sepal_length  sepal_width  petal_length  petal_width    species\n",
       "0             5.1          3.5           1.4          0.2     setosa\n",
       "1             4.9          3.0           1.4          0.2     setosa\n",
       "2             4.7          3.2           1.3          0.2     setosa\n",
       "3             4.6          3.1           1.5          0.2     setosa\n",
       "4             5.0          3.6           1.4          0.2     setosa\n",
       "..            ...          ...           ...          ...        ...\n",
       "145           6.7          3.0           5.2          2.3  virginica\n",
       "146           6.3          2.5           5.0          1.9  virginica\n",
       "147           6.5          3.0           5.2          2.0  virginica\n",
       "148           6.2          3.4           5.4          2.3  virginica\n",
       "149           5.9          3.0           5.1          1.8  virginica\n",
       "\n",
       "[150 rows x 5 columns]"
      ]
     },
     "execution_count": 2,
     "metadata": {},
     "output_type": "execute_result"
    }
   ],
   "source": [
    "#TO READ THE DATA\n",
    "iris = sns.load_dataset('iris')\n",
    "iris"
   ]
  },
  {
   "cell_type": "code",
   "execution_count": 3,
   "id": "5b2aa6f8",
   "metadata": {},
   "outputs": [
    {
     "data": {
      "text/html": [
       "<div>\n",
       "<style scoped>\n",
       "    .dataframe tbody tr th:only-of-type {\n",
       "        vertical-align: middle;\n",
       "    }\n",
       "\n",
       "    .dataframe tbody tr th {\n",
       "        vertical-align: top;\n",
       "    }\n",
       "\n",
       "    .dataframe thead th {\n",
       "        text-align: right;\n",
       "    }\n",
       "</style>\n",
       "<table border=\"1\" class=\"dataframe\">\n",
       "  <thead>\n",
       "    <tr style=\"text-align: right;\">\n",
       "      <th></th>\n",
       "      <th>sepal_length</th>\n",
       "      <th>sepal_width</th>\n",
       "      <th>petal_length</th>\n",
       "      <th>petal_width</th>\n",
       "      <th>species</th>\n",
       "    </tr>\n",
       "  </thead>\n",
       "  <tbody>\n",
       "    <tr>\n",
       "      <th>0</th>\n",
       "      <td>5.1</td>\n",
       "      <td>3.5</td>\n",
       "      <td>1.4</td>\n",
       "      <td>0.2</td>\n",
       "      <td>setosa</td>\n",
       "    </tr>\n",
       "    <tr>\n",
       "      <th>1</th>\n",
       "      <td>4.9</td>\n",
       "      <td>3.0</td>\n",
       "      <td>1.4</td>\n",
       "      <td>0.2</td>\n",
       "      <td>setosa</td>\n",
       "    </tr>\n",
       "    <tr>\n",
       "      <th>2</th>\n",
       "      <td>4.7</td>\n",
       "      <td>3.2</td>\n",
       "      <td>1.3</td>\n",
       "      <td>0.2</td>\n",
       "      <td>setosa</td>\n",
       "    </tr>\n",
       "    <tr>\n",
       "      <th>3</th>\n",
       "      <td>4.6</td>\n",
       "      <td>3.1</td>\n",
       "      <td>1.5</td>\n",
       "      <td>0.2</td>\n",
       "      <td>setosa</td>\n",
       "    </tr>\n",
       "    <tr>\n",
       "      <th>4</th>\n",
       "      <td>5.0</td>\n",
       "      <td>3.6</td>\n",
       "      <td>1.4</td>\n",
       "      <td>0.2</td>\n",
       "      <td>setosa</td>\n",
       "    </tr>\n",
       "  </tbody>\n",
       "</table>\n",
       "</div>"
      ],
      "text/plain": [
       "   sepal_length  sepal_width  petal_length  petal_width species\n",
       "0           5.1          3.5           1.4          0.2  setosa\n",
       "1           4.9          3.0           1.4          0.2  setosa\n",
       "2           4.7          3.2           1.3          0.2  setosa\n",
       "3           4.6          3.1           1.5          0.2  setosa\n",
       "4           5.0          3.6           1.4          0.2  setosa"
      ]
     },
     "execution_count": 3,
     "metadata": {},
     "output_type": "execute_result"
    }
   ],
   "source": [
    "#TO GET FIRST FIVE ROWS FROM DATASET\n",
    "iris.head()"
   ]
  },
  {
   "cell_type": "code",
   "execution_count": 4,
   "id": "9eec09d8",
   "metadata": {},
   "outputs": [
    {
     "data": {
      "text/plain": [
       "(150, 5)"
      ]
     },
     "execution_count": 4,
     "metadata": {},
     "output_type": "execute_result"
    }
   ],
   "source": [
    "#TO CHECK HOW MANY ROWS AND COLUMNS IN DATA\n",
    "iris.shape"
   ]
  },
  {
   "cell_type": "code",
   "execution_count": 5,
   "id": "0c433cb4",
   "metadata": {},
   "outputs": [
    {
     "name": "stdout",
     "output_type": "stream",
     "text": [
      "<class 'pandas.core.frame.DataFrame'>\n",
      "RangeIndex: 150 entries, 0 to 149\n",
      "Data columns (total 5 columns):\n",
      " #   Column        Non-Null Count  Dtype  \n",
      "---  ------        --------------  -----  \n",
      " 0   sepal_length  150 non-null    float64\n",
      " 1   sepal_width   150 non-null    float64\n",
      " 2   petal_length  150 non-null    float64\n",
      " 3   petal_width   150 non-null    float64\n",
      " 4   species       150 non-null    object \n",
      "dtypes: float64(4), object(1)\n",
      "memory usage: 6.0+ KB\n"
     ]
    }
   ],
   "source": [
    "iris.info()"
   ]
  },
  {
   "cell_type": "code",
   "execution_count": null,
   "id": "8120fae3",
   "metadata": {},
   "outputs": [],
   "source": [
    "#TO CHECK NULL VALUES IN DATA\n",
    "iris.isnull().sum()"
   ]
  },
  {
   "cell_type": "code",
   "execution_count": null,
   "id": "13ff32ed",
   "metadata": {},
   "outputs": [],
   "source": [
    "#TO CHECK ANY DUPLICATE VALUES IN DATA\n",
    "iris.duplicated().sum()"
   ]
  },
  {
   "cell_type": "code",
   "execution_count": null,
   "id": "637146b4",
   "metadata": {},
   "outputs": [],
   "source": [
    "# drop duplicate rows\n",
    "iris.drop_duplicates(inplace=True) \n",
    "iris.shape[0] "
   ]
  },
  {
   "cell_type": "code",
   "execution_count": null,
   "id": "df8f0c99",
   "metadata": {},
   "outputs": [],
   "source": [
    "#TO GET ALL COLUMNS NAMES AVAILABLE IN DATASET\n",
    "iris.columns"
   ]
  },
  {
   "cell_type": "code",
   "execution_count": null,
   "id": "c3e40703",
   "metadata": {},
   "outputs": [],
   "source": [
    "#TO CHECK HOW MANY EXAMPLES WE HAVE OF EACH SPECIES    \n",
    "iris[\"species\"].value_counts()"
   ]
  },
  {
   "cell_type": "code",
   "execution_count": null,
   "id": "1393e273",
   "metadata": {},
   "outputs": [],
   "source": [
    "#TO GET STATISCAL SUMMARY OF DATA\n",
    "iris.describe()"
   ]
  },
  {
   "cell_type": "code",
   "execution_count": null,
   "id": "2e4da4ea",
   "metadata": {},
   "outputs": [],
   "source": [
    "#checking for any outliers in the numeric data \n",
    "for i in iris.columns:\n",
    "    if iris[i].dtype=='float64':\n",
    "        plt.figure(figsize=(6,3))\n",
    "        sns.boxplot(iris[i])\n",
    "        plt.show() "
   ]
  },
  {
   "cell_type": "code",
   "execution_count": null,
   "id": "c30dd037",
   "metadata": {},
   "outputs": [],
   "source": [
    "iris.species.unique()"
   ]
  },
  {
   "cell_type": "markdown",
   "id": "2216c716",
   "metadata": {},
   "source": [
    "### Data Visualisation:"
   ]
  },
  {
   "cell_type": "code",
   "execution_count": null,
   "id": "d2b0c222",
   "metadata": {},
   "outputs": [],
   "source": [
    "#Distribution of features by Species\n",
    "#TO CHECK THE VARIATIONS IN DATA DISTRIBUTION\n",
    "sns.distplot(iris[\"sepal_length\"],color=\"blue\")\n",
    "sns.set(rc={'figure.figsize':(7,5)})"
   ]
  },
  {
   "cell_type": "code",
   "execution_count": null,
   "id": "6d5617ae",
   "metadata": {},
   "outputs": [],
   "source": [
    "sns.distplot(iris[\"sepal_width\"],color=\"blue\")\n",
    "sns.set(rc={'figure.figsize' :(7,5)})"
   ]
  },
  {
   "cell_type": "code",
   "execution_count": null,
   "id": "21cca8f3",
   "metadata": {},
   "outputs": [],
   "source": [
    "sns.distplot(iris[\"petal_length\"],color=\"blue\")\n",
    "sns.set(rc={'figure.figsize' : (7,5)})"
   ]
  },
  {
   "cell_type": "code",
   "execution_count": null,
   "id": "d3d80161",
   "metadata": {},
   "outputs": [],
   "source": [
    "#TO CHECK PAIRWISE RELATIONSHIPS IN DATASET \n",
    "sns.pairplot(iris,height=2, kind= 'kde')"
   ]
  },
  {
   "cell_type": "markdown",
   "id": "f4e6bd78",
   "metadata": {},
   "source": [
    "### Covariance matrix:"
   ]
  },
  {
   "cell_type": "code",
   "execution_count": null,
   "id": "a7cf8fd0",
   "metadata": {},
   "outputs": [],
   "source": [
    "#Covariance\n",
    "iris.cov()"
   ]
  },
  {
   "cell_type": "code",
   "execution_count": null,
   "id": "1c72c33c",
   "metadata": {},
   "outputs": [],
   "source": [
    "#Correlation between variables. Checking if change in one variable affects the other\n",
    "iris.corr()"
   ]
  },
  {
   "cell_type": "code",
   "execution_count": null,
   "id": "70779b75",
   "metadata": {},
   "outputs": [],
   "source": [
    "#Correlation Matrix\n",
    "plt.figure(figsize=(12,8))\n",
    "sns.heatmap(abs(iris.corr()),cmap= 'GnBu', annot= True);"
   ]
  },
  {
   "cell_type": "markdown",
   "id": "72f53690",
   "metadata": {},
   "source": [
    "### Finding optimal number of clusters using elbow method"
   ]
  },
  {
   "cell_type": "code",
   "execution_count": null,
   "id": "dc3cb1f4",
   "metadata": {},
   "outputs": [],
   "source": [
    "#TO FIND OPTIMAL NUMBER OF CLUSTERS FOR K MEANS CLUSTRING \n",
    "x=iris.iloc[:,:-1].values\n",
    "from sklearn.cluster import KMeans\n",
    "wcss=[]\n",
    "for i in range(1, 11):\n",
    "    kmeans = KMeans(n_clusters = i, init = 'k-means++', \n",
    "                    max_iter = 300, n_init = 10, random_state = 0)\n",
    "    kmeans.fit(x)\n",
    "    wcss.append(kmeans.inertia_)\n",
    "plt.plot(range(1, 11), wcss)\n",
    "plt.title(\"'ELBOW METHOD TO DETERMINE OPTIMAL VALUE OF 'K'\\n\")\n",
    "plt.xlabel('Number of clusters')\n",
    "plt.ylabel('WCSS')\n",
    "plt.show()"
   ]
  },
  {
   "cell_type": "code",
   "execution_count": null,
   "id": "65512c9e",
   "metadata": {},
   "outputs": [],
   "source": [
    "# APPLYING KMEANS TO THE DATASET \n",
    "kmeans = KMeans(n_clusters = 3, init = 'k-means++',\n",
    "                max_iter = 300, n_init = 10, random_state = 0)\n",
    "y_kmeans = kmeans.fit_predict(x)\n",
    "y_kmeans"
   ]
  },
  {
   "cell_type": "code",
   "execution_count": null,
   "id": "892d9688",
   "metadata": {},
   "outputs": [],
   "source": [
    "iris['cluster'] = y_kmeans\n",
    "iris"
   ]
  },
  {
   "cell_type": "code",
   "execution_count": null,
   "id": "d30b822b",
   "metadata": {},
   "outputs": [],
   "source": [
    "display(iris['cluster'].value_counts(), iris['species'].value_counts())"
   ]
  },
  {
   "cell_type": "code",
   "execution_count": null,
   "id": "51cb9fbb",
   "metadata": {},
   "outputs": [],
   "source": [
    "iris['species_encoded'] = iris['species'].apply(lambda x: 1 if x=='iris-setosa' else 2 if x=='iris-virginica' else 0)\n",
    "iris"
   ]
  },
  {
   "cell_type": "code",
   "execution_count": null,
   "id": "15220073",
   "metadata": {},
   "outputs": [],
   "source": [
    "from sklearn.metrics import classification_report\n",
    "print(classification_report(iris['species_encoded'], iris['cluster']))"
   ]
  },
  {
   "cell_type": "code",
   "execution_count": null,
   "id": "fa9db63f",
   "metadata": {},
   "outputs": [],
   "source": [
    "from sklearn.metrics import confusion_matrix\n",
    "sns.heatmap(confusion_matrix(iris['species_encoded'],iris['cluster']), annot=True);"
   ]
  },
  {
   "cell_type": "markdown",
   "id": "cf766689",
   "metadata": {},
   "source": [
    "### Test set result visualization"
   ]
  },
  {
   "cell_type": "code",
   "execution_count": null,
   "id": "700babf2",
   "metadata": {},
   "outputs": [],
   "source": [
    "plt.scatter(x[y_kmeans == 0, 0], x[y_kmeans == 0, 1], \n",
    "            s = 100, c = 'red', label = 'iris-setosa')\n",
    "plt.scatter(x[y_kmeans == 1, 0], x[y_kmeans == 1, 1], \n",
    "            s = 100, c = 'blue', label = 'iris-versicolour')\n",
    "plt.scatter(x[y_kmeans == 2, 0], x[y_kmeans == 2, 1],\n",
    "            s = 100, c = 'green', label = 'iris-virginica')\n",
    "\n",
    "#PLOTTING THE CENTROIDS OF THE CLUSTERS \n",
    "plt.title('Predicted Clusters\\n')\n",
    "plt.scatter(kmeans.cluster_centers_[:, 0], kmeans.cluster_centers_[:,1], \n",
    "            s = 100, c = 'yellow', label = 'Centroids')\n",
    "plt.legend()"
   ]
  },
  {
   "cell_type": "code",
   "execution_count": null,
   "id": "b00f4c66",
   "metadata": {},
   "outputs": [],
   "source": []
  }
 ],
 "metadata": {
  "kernelspec": {
   "display_name": "Python 3 (ipykernel)",
   "language": "python",
   "name": "python3"
  },
  "language_info": {
   "codemirror_mode": {
    "name": "ipython",
    "version": 3
   },
   "file_extension": ".py",
   "mimetype": "text/x-python",
   "name": "python",
   "nbconvert_exporter": "python",
   "pygments_lexer": "ipython3",
   "version": "3.9.7"
  }
 },
 "nbformat": 4,
 "nbformat_minor": 5
}
